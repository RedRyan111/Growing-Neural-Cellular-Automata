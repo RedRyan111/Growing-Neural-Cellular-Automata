{
 "cells": [
  {
   "cell_type": "code",
   "execution_count": null,
   "metadata": {},
   "outputs": [],
   "source": [
    "import json\n",
    "import matplotlib.pyplot as plt\n",
    "import matplotlib.image as mpimg\n",
    "import os\n",
    "import torch\n",
    "import torchvision\n",
    "from  torchvision import transforms\n",
    "import torch.nn as nn\n",
    "import torch.optim as optim\n",
    "import torch.nn.functional as F\n",
    "import numpy as np\n",
    "import random\n",
    "from array2gif import write_gif\n",
    "from PIL import Image\n",
    "import IPython\n",
    "from IPython.core.interactiveshell import InteractiveShell\n",
    "InteractiveShell.ast_node_interactivity = \"all\"\n",
    "from IPython import display\n",
    "from pathlib import Path\n",
    "import time\n",
    "import tqdm\n",
    "from tqdm.notebook import trange, tqdm\n",
    "import math\n",
    "from torch import autograd\n",
    "import matplotlib.animation as animation"
   ]
  },
  {
   "cell_type": "markdown",
   "metadata": {},
   "source": [
    "## Get Images"
   ]
  },
  {
   "cell_type": "code",
   "execution_count": null,
   "metadata": {},
   "outputs": [],
   "source": [
    "#10 is bubble gum\n",
    "img_num = 10"
   ]
  },
  {
   "cell_type": "code",
   "execution_count": null,
   "metadata": {},
   "outputs": [],
   "source": [
    "img_folder = \"64\""
   ]
  },
  {
   "cell_type": "code",
   "execution_count": null,
   "metadata": {},
   "outputs": [],
   "source": [
    "enteries = os.listdir(img_folder)"
   ]
  },
  {
   "cell_type": "code",
   "execution_count": null,
   "metadata": {},
   "outputs": [],
   "source": [
    "img = mpimg.imread(\"64/\"+enteries[img_num])"
   ]
  },
  {
   "cell_type": "code",
   "execution_count": null,
   "metadata": {
    "scrolled": true
   },
   "outputs": [],
   "source": [
    "plt.imshow(img)"
   ]
  },
  {
   "cell_type": "code",
   "execution_count": null,
   "metadata": {},
   "outputs": [],
   "source": [
    "np.array(img).shape"
   ]
  },
  {
   "cell_type": "code",
   "execution_count": null,
   "metadata": {},
   "outputs": [],
   "source": [
    "temp_img = Image.fromarray(np.uint8(img*255.))\n",
    "plt.imshow(temp_img)"
   ]
  },
  {
   "cell_type": "code",
   "execution_count": null,
   "metadata": {},
   "outputs": [],
   "source": [
    "temp_img = Image.fromarray(np.uint8(img*255))\n",
    "plt.imshow(temp_img)"
   ]
  },
  {
   "cell_type": "code",
   "execution_count": null,
   "metadata": {},
   "outputs": [],
   "source": [
    "def rgba_to_rgb(img):\n",
    "    temp_img = Image.fromarray(np.uint8(img*255))\n",
    "    background = Image.new(\"RGB\",(64,64), (255,255,255))\n",
    "    print(background.size)\n",
    "    background.paste(temp_img,mask=temp_img.split()[3])\n",
    "    background = np.array(background)\n",
    "    print(type(background))\n",
    "    background = (background - background.min())/(background.max()-background.min())\n",
    "    return background"
   ]
  },
  {
   "cell_type": "code",
   "execution_count": null,
   "metadata": {},
   "outputs": [],
   "source": [
    "img = rgba_to_rgb(img)\n",
    "plt.imshow(img)\n",
    "print(img.shape)\n",
    "print(img[0][0])"
   ]
  },
  {
   "cell_type": "code",
   "execution_count": null,
   "metadata": {},
   "outputs": [],
   "source": []
  },
  {
   "cell_type": "markdown",
   "metadata": {},
   "source": [
    "## state to image"
   ]
  },
  {
   "cell_type": "code",
   "execution_count": null,
   "metadata": {},
   "outputs": [],
   "source": [
    "def state_to_image(state,num_channels):\n",
    "    state = state.permute(3,2,1,0)\n",
    "    state = torch.reshape(state,(64,64,1,num_channels))\n",
    "    state = torch.reshape(state,(64,64,num_channels))\n",
    "    state = state.narrow(2,0,3)\n",
    "    return state"
   ]
  },
  {
   "cell_type": "markdown",
   "metadata": {},
   "source": [
    "## Build Neural Network"
   ]
  },
  {
   "cell_type": "code",
   "execution_count": null,
   "metadata": {},
   "outputs": [],
   "source": [
    "class big_NN(nn.Module):\n",
    "    def __init__(self, num_channels):\n",
    "        super(big_NN, self).__init__()\n",
    "        temp = num_channels*3\n",
    "        self.fc1 = nn.Linear(temp, temp)\n",
    "        #self.fc4 = nn.Linear(temp, temp)\n",
    "        self.fc2 = nn.Linear(temp, num_channels)\n",
    "        #self.fc3 = nn.Tanh()\n",
    "        \n",
    "    def forward(self,x):\n",
    "        x1 = F.relu(self.fc1(x))\n",
    "        #x4 = F.relu(self.fc4(x1))\n",
    "        x2 = self.fc2(x1)*.05\n",
    "        return x2"
   ]
  },
  {
   "cell_type": "markdown",
   "metadata": {},
   "source": [
    "## Initial states"
   ]
  },
  {
   "cell_type": "code",
   "execution_count": null,
   "metadata": {},
   "outputs": [],
   "source": [
    "def initial_state(num_channels):\n",
    "    state = torch.zeros((num_channels,1,64,64))\n",
    "    for channel in range(num_channels):\n",
    "        for i in range(64):\n",
    "            for j in range(64):\n",
    "                if(i == 31 and j == 31):\n",
    "                    state[0][0][31][31] = 1.\n",
    "                    state[1][0][31][31] = 1.\n",
    "                    state[2][0][31][31] = 1.\n",
    "                    state[3][0][31][31] = 1.\n",
    "    return state"
   ]
  },
  {
   "cell_type": "code",
   "execution_count": null,
   "metadata": {},
   "outputs": [],
   "source": [
    "def initial_random_state():\n",
    "    inp_channels = 16\n",
    "    out_channels = 16\n",
    "    random_seeds = 15\n",
    "    state = torch.zeros((inp_channels,1,64,64))\n",
    "    for i in range(random_seeds):\n",
    "        rand_x = random.randint(0,63)\n",
    "        rand_y = random.randint(0,63)\n",
    "        for channel in range(inp_channels):\n",
    "            state[channel][0][rand_x][rand_y] = .5\n",
    "    return state"
   ]
  },
  {
   "cell_type": "code",
   "execution_count": null,
   "metadata": {},
   "outputs": [],
   "source": [
    "def initial_perturbed_state(img):\n",
    "    state_img = np.reshape(np.transpose(img),(3,64,64))\n",
    "    state = np.ones((16,1,64,64))\n",
    "    state[0][0] = state_img[0]\n",
    "    state[1][0] = state_img[1]\n",
    "    state[2][0] = state_img[2]\n",
    "    state = torch.FloatTensor(state)\n",
    "    return state"
   ]
  },
  {
   "cell_type": "code",
   "execution_count": null,
   "metadata": {},
   "outputs": [],
   "source": []
  },
  {
   "cell_type": "code",
   "execution_count": null,
   "metadata": {
    "scrolled": false
   },
   "outputs": [],
   "source": [
    "plt.imshow(img)"
   ]
  },
  {
   "cell_type": "code",
   "execution_count": null,
   "metadata": {},
   "outputs": [],
   "source": [
    "print(img.shape)"
   ]
  },
  {
   "cell_type": "code",
   "execution_count": null,
   "metadata": {},
   "outputs": [],
   "source": [
    "state1 = np.reshape(np.transpose(img),(3,64,64)) \n",
    "print(state1.shape)"
   ]
  },
  {
   "cell_type": "code",
   "execution_count": null,
   "metadata": {},
   "outputs": [],
   "source": [
    "state2 = np.reshape(np.transpose(state1),(64,64,3)) \n",
    "print(state2.shape)"
   ]
  },
  {
   "cell_type": "code",
   "execution_count": null,
   "metadata": {
    "scrolled": true
   },
   "outputs": [],
   "source": [
    "plt.imshow(state2)"
   ]
  },
  {
   "cell_type": "code",
   "execution_count": null,
   "metadata": {},
   "outputs": [],
   "source": []
  },
  {
   "cell_type": "markdown",
   "metadata": {},
   "source": [
    "## Perception"
   ]
  },
  {
   "cell_type": "code",
   "execution_count": null,
   "metadata": {},
   "outputs": [],
   "source": [
    "def perception(state):\n",
    "    sobel_x = torch.FloatTensor([[-1,0,1],[-2,0,2],[-1,0,1]])\n",
    "    sobel_y = np.transpose(sobel_x)\n",
    "    \n",
    "    sobel_x = sobel_x.view(1,1,3,3)\n",
    "    sobel_y = sobel_y.view(1,1,3,3)\n",
    "    \n",
    "    grad_x = F.conv2d(state, sobel_x,stride=1,padding=1)\n",
    "    grad_y = F.conv2d(state, sobel_y,stride=1,padding=1)\n",
    "    \n",
    "    temp_state = torch.cat((state,grad_x,grad_y),0)\n",
    "    \n",
    "    return temp_state"
   ]
  },
  {
   "cell_type": "markdown",
   "metadata": {},
   "source": [
    "## Stochastic Update"
   ]
  },
  {
   "cell_type": "code",
   "execution_count": null,
   "metadata": {},
   "outputs": [],
   "source": [
    "def stochastic_update(state,state_update):\n",
    "    state_update = state_update.permute(1,0)\n",
    "    state_update = torch.reshape(state_update,(num_channels,1,64,64))     #9,2 --> 2,1,3,3\n",
    "    return state_update\n",
    "    update_mask = torch.FloatTensor(num_channels,1,64,64).uniform_()>.1\n",
    "    state_update = torch.mul(state_update,update_mask)\n",
    "    return state_update"
   ]
  },
  {
   "cell_type": "markdown",
   "metadata": {},
   "source": [
    "## Alive Masking"
   ]
  },
  {
   "cell_type": "code",
   "execution_count": null,
   "metadata": {},
   "outputs": [],
   "source": [
    "def alive_masking(state,state_update):\n",
    "    \n",
    "    blur_state = F.max_pool2d(state[3],kernel_size=3,stride=1,padding=1)\n",
    "    \n",
    "    alive = torch.where((blur_state>.1),state_update,torch.zeros((num_channels,1,64,64)))  #not sure about this\n",
    "\n",
    "    state = state + alive\n",
    "    state = torch.where((state>=1.),torch.ones((num_channels,1,64,64)),state)\n",
    "    state = torch.where((state<=0.),torch.zeros((num_channels,1,64,64)),state)\n",
    "    \n",
    "    return state + alive \n",
    "    \n",
    "    "
   ]
  },
  {
   "cell_type": "markdown",
   "metadata": {},
   "source": [
    "## Train"
   ]
  },
  {
   "cell_type": "code",
   "execution_count": null,
   "metadata": {},
   "outputs": [],
   "source": [
    "buffer = []\n",
    "num_channels = 20\n",
    "model = big_NN(num_channels)"
   ]
  },
  {
   "cell_type": "code",
   "execution_count": null,
   "metadata": {
    "scrolled": true
   },
   "outputs": [],
   "source": [
    "epochs = 700\n",
    "mse = nn.MSELoss()\n",
    "l1_crit = nn.L1Loss(size_average=False)\n",
    "optimizer = optim.Adam(model.parameters(), lr=0.01)\n",
    "images = []\n",
    "loss_list = []\n",
    "img = torch.FloatTensor(img)\n",
    "for epoch in range(epochs):\n",
    "    state = initial_state(num_channels) \n",
    "    \n",
    "    steps = 160\n",
    "    for step in range(steps):\n",
    "        conv_state = perception(state)\n",
    "        conv_state = torch.reshape(conv_state.permute(3,2,1,0),(1*64*64,num_channels*3))\n",
    "        state_update = model(conv_state)\n",
    "        state_update = stochastic_update(state,state_update)\n",
    "\n",
    "        state = alive_masking(state,state_update)\n",
    "    temp_state = state_to_image(state,num_channels)\n",
    "    \n",
    "    \n",
    "    \n",
    "    sum_avg = 0\n",
    "    \n",
    "    loss = mse(temp_state,img) #+ sum_avg\n",
    "    loss_list.append(float(loss))\n",
    "    optimizer.zero_grad()\n",
    "    model.zero_grad()\n",
    "    loss.backward(retain_graph=True)\n",
    "    for i in range(1):\n",
    "        optimizer.step()\n",
    "    #print(\"Epoch: {}    loss: {}  ran_num: {} state_avg: {}\".format(epoch,loss.detach(),ran_num,state_sum_avg.detach()))\n",
    "    print(\"Epoch: {}    loss: {}   avg: {}\".format(epoch,loss.detach(),sum_avg))\n"
   ]
  },
  {
   "cell_type": "code",
   "execution_count": null,
   "metadata": {},
   "outputs": [],
   "source": []
  },
  {
   "cell_type": "code",
   "execution_count": null,
   "metadata": {},
   "outputs": [],
   "source": [
    "plt.imshow(temp_state.detach().numpy())"
   ]
  },
  {
   "cell_type": "code",
   "execution_count": null,
   "metadata": {},
   "outputs": [],
   "source": [
    "plt.imshow(img)"
   ]
  },
  {
   "cell_type": "code",
   "execution_count": null,
   "metadata": {},
   "outputs": [],
   "source": [
    "plt.plot([i for i in range(len(loss_list))],loss_list)"
   ]
  },
  {
   "cell_type": "code",
   "execution_count": null,
   "metadata": {},
   "outputs": [],
   "source": [
    "inp_channels = 64\n",
    "out_channels = 64\n",
    "images = []\n",
    "\n",
    "state = initial_state(num_channels) \n",
    "steps = 160\n",
    "for step in range(steps):\n",
    "\n",
    "    conv_state = perception(state)\n",
    "    conv_state = torch.reshape(conv_state.permute(3,2,1,0),(1*64*64,num_channels*3))\n",
    "    state_update = model(conv_state)\n",
    "    state_update = stochastic_update(state,state_update)\n",
    "\n",
    "    state = alive_masking(state,state_update)\n",
    "    temp_state = state_to_image(state,num_channels)\n",
    "    temp_state = (temp_state - temp_state.min())/(temp_state.max() - temp_state.min())\n",
    "    images.append(temp_state.detach().numpy())\n",
    "loss = mse(temp_state,img)\n",
    "print(\"Epoch: {}    loss: {}\".format(epoch,loss.detach()))\n"
   ]
  },
  {
   "cell_type": "code",
   "execution_count": null,
   "metadata": {},
   "outputs": [],
   "source": [
    "print(len(images))"
   ]
  },
  {
   "cell_type": "code",
   "execution_count": null,
   "metadata": {},
   "outputs": [],
   "source": [
    "image_list = [Image.fromarray(np.uint8(image*255.)) for image in images]"
   ]
  },
  {
   "cell_type": "code",
   "execution_count": null,
   "metadata": {},
   "outputs": [],
   "source": [
    "image_list = [image.resize((640,640)) for image in image_list]\n",
    "print(image_list[0].size)"
   ]
  },
  {
   "cell_type": "code",
   "execution_count": null,
   "metadata": {},
   "outputs": [],
   "source": [
    "image_list[0].save('growing_phase.gif',save_all=True,append_images=image_list[1:],optimize=False,duration=40,loops=10)"
   ]
  },
  {
   "cell_type": "code",
   "execution_count": null,
   "metadata": {},
   "outputs": [],
   "source": []
  },
  {
   "cell_type": "code",
   "execution_count": null,
   "metadata": {},
   "outputs": [],
   "source": [
    "gifPath = Path(\"growing_phase.gif\")\n",
    "with open(gifPath,'rb') as f:\n",
    "    display.Image(data=f.read(),format='png')"
   ]
  },
  {
   "cell_type": "code",
   "execution_count": null,
   "metadata": {},
   "outputs": [],
   "source": [
    "'''    #randomly change state initilaization\n",
    "    ran_num = random.randint(0,2)\n",
    "    if(ran_num == 0):\n",
    "        state = initial_state()\n",
    "    elif(ran_num == 1):\n",
    "        state = initial_random_state()\n",
    "    elif(ran_num == 2):\n",
    "        state = initial_perturbed_state(img)\n",
    "    else:\n",
    "        state = initial_state() '''"
   ]
  },
  {
   "cell_type": "code",
   "execution_count": null,
   "metadata": {},
   "outputs": [],
   "source": [
    "'''\n",
    "#loss and backprop\n",
    "param_sum_avg = 0\n",
    "count = 0\n",
    "for param in next(model.parameters()):\n",
    "    count+=1\n",
    "    param_sum_avg += param.mean()\n",
    "param_sum_avg = param_sum_avg/count\n",
    "\n",
    "state_sum_avg = 0\n",
    "count = 0\n",
    "for val in state:\n",
    "    count+=1\n",
    "    state_sum_avg += val.mean()\n",
    "state_sum_avg = state_sum_avg/count\n",
    "#print(state_sum_avg)\n",
    "'''"
   ]
  },
  {
   "cell_type": "code",
   "execution_count": null,
   "metadata": {},
   "outputs": [],
   "source": [
    "'''\n",
    "for param in next(model.parameters()):\n",
    "    #print(param)\n",
    "    temp_sum = 0\n",
    "    for i in param:\n",
    "        temp_sum += abs(i)\n",
    "        count+=1             \n",
    "    sum_avg += temp_sum\n",
    "    \n",
    "sum_avg = sum_avg/count\n",
    "print(\"Sum avg param: {}\".format(sum_avg))\n",
    "'''"
   ]
  },
  {
   "cell_type": "code",
   "execution_count": null,
   "metadata": {},
   "outputs": [],
   "source": []
  },
  {
   "cell_type": "code",
   "execution_count": null,
   "metadata": {},
   "outputs": [],
   "source": []
  },
  {
   "cell_type": "code",
   "execution_count": null,
   "metadata": {},
   "outputs": [],
   "source": []
  },
  {
   "cell_type": "code",
   "execution_count": null,
   "metadata": {},
   "outputs": [],
   "source": []
  },
  {
   "cell_type": "code",
   "execution_count": null,
   "metadata": {},
   "outputs": [],
   "source": []
  },
  {
   "cell_type": "code",
   "execution_count": null,
   "metadata": {},
   "outputs": [],
   "source": []
  },
  {
   "cell_type": "code",
   "execution_count": null,
   "metadata": {},
   "outputs": [],
   "source": []
  },
  {
   "cell_type": "code",
   "execution_count": null,
   "metadata": {},
   "outputs": [],
   "source": []
  },
  {
   "cell_type": "code",
   "execution_count": null,
   "metadata": {},
   "outputs": [],
   "source": []
  },
  {
   "cell_type": "code",
   "execution_count": null,
   "metadata": {},
   "outputs": [],
   "source": []
  },
  {
   "cell_type": "code",
   "execution_count": null,
   "metadata": {},
   "outputs": [],
   "source": []
  },
  {
   "cell_type": "code",
   "execution_count": null,
   "metadata": {},
   "outputs": [],
   "source": []
  },
  {
   "cell_type": "code",
   "execution_count": null,
   "metadata": {},
   "outputs": [],
   "source": []
  },
  {
   "cell_type": "code",
   "execution_count": null,
   "metadata": {},
   "outputs": [],
   "source": []
  },
  {
   "cell_type": "code",
   "execution_count": null,
   "metadata": {},
   "outputs": [],
   "source": []
  }
 ],
 "metadata": {
  "kernelspec": {
   "display_name": "Python 3",
   "language": "python",
   "name": "python3"
  },
  "language_info": {
   "codemirror_mode": {
    "name": "ipython",
    "version": 3
   },
   "file_extension": ".py",
   "mimetype": "text/x-python",
   "name": "python",
   "nbconvert_exporter": "python",
   "pygments_lexer": "ipython3",
   "version": "3.7.5"
  }
 },
 "nbformat": 4,
 "nbformat_minor": 4
}
